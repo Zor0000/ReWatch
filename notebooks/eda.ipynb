{
 "cells": [
  {
   "cell_type": "code",
   "execution_count": 20,
   "id": "b31f1e94",
   "metadata": {},
   "outputs": [
    {
     "name": "stdout",
     "output_type": "stream",
     "text": [
      "     brand                  model         type   movement  case_diameter  \\\n",
      "0    Seiko  Presage Cocktail Time       Analog  Automatic           40.5   \n",
      "1    Casio         G-Shock DW5600      Digital     Quartz           42.8   \n",
      "2   Fossil      Grant Chronograph  Chronograph     Quartz           44.0   \n",
      "3    Timex              Weekender       Analog     Quartz           38.0   \n",
      "4  Citizen     Eco-Drive Chandler       Analog      Solar           42.0   \n",
      "\n",
      "  strap_material  price   style  water_resistance  \\\n",
      "0        Leather  22000   Dress                50   \n",
      "1          Resin   6500   Sport               200   \n",
      "2        Leather   8995  Casual                30   \n",
      "3         Fabric   3995  Casual                30   \n",
      "4         Canvas  11500   Sport               100   \n",
      "\n",
      "                              features  \n",
      "0                Date,Sapphire Crystal  \n",
      "1          Shock Resistant,Illuminator  \n",
      "2             Chronograph,Date Display  \n",
      "3  Indiglo Light,Interchangeable Strap  \n",
      "4              Date Display,Glow Hands  \n"
     ]
    }
   ],
   "source": [
    "import sys\n",
    "import os\n",
    "sys.path.append(os.path.abspath(\"..\"))\n",
    "\n",
    "\n",
    "from src.data_loader import load_data\n",
    "\n",
    "df = load_data(\"D:/ReWatch/data/processed/watch_data.csv\")\n",
    "print(df.head())\n"
   ]
  },
  {
   "cell_type": "code",
   "execution_count": 23,
   "id": "abe56ff1",
   "metadata": {},
   "outputs": [
    {
     "name": "stdout",
     "output_type": "stream",
     "text": [
      "     brand                   model    type   movement  case_diameter  \\\n",
      "294  Tudor                   Royal  Analog  Automatic           41.0   \n",
      "295  Tudor        Black Bay Bronze  Analog  Automatic           43.0   \n",
      "296  Tudor                    1926  Analog  Automatic           41.0   \n",
      "297  Tudor  Heritage Black Bay GMT  Analog  Automatic           41.0   \n",
      "298  Tudor              Pelagos 39  Analog  Automatic           39.0   \n",
      "\n",
      "      strap_material   price  style  water_resistance  \\\n",
      "294  Stainless Steel  220000  Dress               100   \n",
      "295           Bronze  360000  Diver               200   \n",
      "296  Stainless Steel  200000  Dress               100   \n",
      "297  Stainless Steel  350000    GMT               200   \n",
      "298         Titanium  340000  Diver               200   \n",
      "\n",
      "                                        features  \n",
      "294         Day-Date Display,Integrated Bracelet  \n",
      "295          Bronze Case,Automatic,Diver's Watch  \n",
      "296              Classic Dress Watch,Waffle Dial  \n",
      "297         In-house GMT Movement,Rotating Bezel  \n",
      "298  Titanium Case,Diver's Watch,Slimmer Profile  \n"
     ]
    }
   ],
   "source": [
    "print(df.tail(5))"
   ]
  },
  {
   "cell_type": "code",
   "execution_count": null,
   "id": "503ecc24",
   "metadata": {},
   "outputs": [],
   "source": []
  }
 ],
 "metadata": {
  "kernelspec": {
   "display_name": "rewatchenv",
   "language": "python",
   "name": "python3"
  },
  "language_info": {
   "codemirror_mode": {
    "name": "ipython",
    "version": 3
   },
   "file_extension": ".py",
   "mimetype": "text/x-python",
   "name": "python",
   "nbconvert_exporter": "python",
   "pygments_lexer": "ipython3",
   "version": "3.13.5"
  }
 },
 "nbformat": 4,
 "nbformat_minor": 5
}
