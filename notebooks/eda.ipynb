{
 "cells": [
  {
   "cell_type": "code",
   "execution_count": 17,
   "id": "b31f1e94",
   "metadata": {},
   "outputs": [
    {
     "name": "stdout",
     "output_type": "stream",
     "text": [
      "     brand                  model         type   movement  case_diameter  \\\n",
      "0    Seiko  Presage Cocktail Time       Analog  Automatic           40.5   \n",
      "1    Casio         G-Shock DW5600      Digital     Quartz           42.8   \n",
      "2   Fossil      Grant Chronograph  Chronograph     Quartz           44.0   \n",
      "3    Timex              Weekender       Analog     Quartz           38.0   \n",
      "4  Citizen     Eco-Drive Chandler       Analog      Solar           42.0   \n",
      "\n",
      "  strap_material  price   style  water_resistance  \\\n",
      "0        Leather  22000   Dress                50   \n",
      "1          Resin   6500   Sport               200   \n",
      "2        Leather   8995  Casual                30   \n",
      "3         Fabric   3995  Casual                30   \n",
      "4         Canvas  11500   Sport               100   \n",
      "\n",
      "                              features  \n",
      "0                Date,Sapphire Crystal  \n",
      "1          Shock Resistant,Illuminator  \n",
      "2             Chronograph,Date Display  \n",
      "3  Indiglo Light,Interchangeable Strap  \n",
      "4              Date Display,Glow Hands  \n"
     ]
    }
   ],
   "source": [
    "import sys\n",
    "import os\n",
    "sys.path.append(os.path.abspath(\"..\"))\n",
    "\n",
    "\n",
    "from src.data_loader import load_data\n",
    "\n",
    "df = load_data(\"D:/ReWatch/data/processed/watch_data.csv\")\n",
    "print(df.head())\n"
   ]
  },
  {
   "cell_type": "code",
   "execution_count": 18,
   "id": "abe56ff1",
   "metadata": {},
   "outputs": [
    {
     "name": "stdout",
     "output_type": "stream",
     "text": [
      "     brand                     model         type   movement  case_diameter  \\\n",
      "26   Omega  Speedmaster Professional  Chronograph     Manual           42.0   \n",
      "27   Rolex           Submariner Date       Analog  Automatic           41.0   \n",
      "28   Casio                     A168W      Digital     Quartz           36.0   \n",
      "29  Orient           Sun and Moon V3       Analog  Automatic           42.5   \n",
      "30  Tissot   Gentleman Powermatic 80       Analog  Automatic           40.0   \n",
      "\n",
      "   strap_material   price   style  water_resistance  \\\n",
      "26          Metal  500000  Luxury                50   \n",
      "27          Metal  950000  Luxury               300   \n",
      "28          Metal    1895  Casual                30   \n",
      "29        Leather   18500   Dress                50   \n",
      "30        Leather   52000   Dress               100   \n",
      "\n",
      "                           features  \n",
      "26            Moonwatch,Chronograph  \n",
      "27  Rotating Bezel,Luminous Markers  \n",
      "28              LED Light,Stopwatch  \n",
      "29            Sun/Moon Display,Date  \n",
      "30     Silicon Balance,Date Display  \n"
     ]
    }
   ],
   "source": [
    "print(df.tail())"
   ]
  }
 ],
 "metadata": {
  "kernelspec": {
   "display_name": "rewatchenv",
   "language": "python",
   "name": "python3"
  },
  "language_info": {
   "codemirror_mode": {
    "name": "ipython",
    "version": 3
   },
   "file_extension": ".py",
   "mimetype": "text/x-python",
   "name": "python",
   "nbconvert_exporter": "python",
   "pygments_lexer": "ipython3",
   "version": "3.13.5"
  }
 },
 "nbformat": 4,
 "nbformat_minor": 5
}
